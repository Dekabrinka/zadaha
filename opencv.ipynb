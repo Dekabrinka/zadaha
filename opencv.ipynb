{
 "cells": [
  {
   "cell_type": "code",
   "execution_count": 8,
   "id": "08b8c667-76e5-44f0-ba0a-cfb2ba0ea64f",
   "metadata": {},
   "outputs": [],
   "source": [
    "import cv2 as cv"
   ]
  },
  {
   "cell_type": "code",
   "execution_count": 9,
   "id": "0b5732e9-c955-4383-b337-8150131f515d",
   "metadata": {},
   "outputs": [
    {
     "name": "stdout",
     "output_type": "stream",
     "text": [
      "width:   620\n",
      "height:  445\n",
      "channel: 3\n"
     ]
    }
   ],
   "source": [
    "img = cv.imread(\"yandex_robot.jpg\")\n",
    "h, w, c = img.shape\n",
    "print('width:  ', w)\n",
    "print('height: ', h)\n",
    "print('channel:', c)"
   ]
  },
  {
   "cell_type": "code",
   "execution_count": 16,
   "id": "eb66a730-7fbe-441e-b53c-ab040493339f",
   "metadata": {},
   "outputs": [],
   "source": [
    "resized_image = cv.resize(img,(300,100), interpolation = cv.INTER_LINEAR)\n",
    "gray_image = cv.cvtColor(img, cv.COLOR_BGR2GRAY )\n",
    "blurred_image = cv.GaussianBlur(img, (11, 11), 0)"
   ]
  },
  {
   "cell_type": "code",
   "execution_count": 17,
   "id": "ff9a1040-2cf4-40d5-b7fc-83814ab26423",
   "metadata": {},
   "outputs": [
    {
     "data": {
      "text/plain": [
       "True"
      ]
     },
     "execution_count": 17,
     "metadata": {},
     "output_type": "execute_result"
    }
   ],
   "source": [
    "cv.imwrite(\"resized_image.jpg\",resized_image)\n",
    "cv.imwrite(\"gray_image.jpg\",gray_image)\n",
    "cv.imwrite(\"blurred_image.jpg\",blurred_image)"
   ]
  },
  {
   "cell_type": "code",
   "execution_count": null,
   "id": "1024aaef-9fbf-48e4-b0d4-09fb687a452e",
   "metadata": {},
   "outputs": [],
   "source": []
  }
 ],
 "metadata": {
  "kernelspec": {
   "display_name": "Python 3 (ipykernel)",
   "language": "python",
   "name": "python3"
  },
  "language_info": {
   "codemirror_mode": {
    "name": "ipython",
    "version": 3
   },
   "file_extension": ".py",
   "mimetype": "text/x-python",
   "name": "python",
   "nbconvert_exporter": "python",
   "pygments_lexer": "ipython3",
   "version": "3.12.4"
  }
 },
 "nbformat": 4,
 "nbformat_minor": 5
}
